{
 "cells": [
  {
   "cell_type": "code",
   "execution_count": 1,
   "metadata": {},
   "outputs": [
    {
     "name": "stdout",
     "output_type": "stream",
     "text": [
      "INFO     [telemetry] Anonymized telemetry enabled. See https://docs.browser-use.com/development/telemetry for more information.\n",
      "INFO     [agent] 🧠 Starting an agent with main_model=gpt-4o +tools +vision +memory, planner_model=None, extraction_model=gpt-4o \n",
      "INFO     [mem0.vector_stores.faiss] Loaded FAISS index from /tmp/mem0_1536_faiss/mem0.faiss with 1 vectors\n",
      "INFO     [mem0.vector_stores.faiss] Loaded FAISS index from /Users/dhirennavani/.mem0/migrations_faiss/mem0_migrations.faiss with 4 vectors\n",
      "INFO     [mem0.vector_stores.faiss] Inserted 1 vectors into collection mem0_migrations\n",
      "INFO     [agent] Saving conversation to logs/conversation\n",
      "INFO     [agent] 🚀 Starting task: Goal: Cancel Prime Subscription.  \n",
      "    * If login is prompted\n",
      "    * * Use AMAZON_EMAIL & AMAZON_PASSWORD\n",
      "    * * If otp is prompted ask for OTP input & use it.\n",
      "    * If the user does not have prime membership, do nothing & close. \n",
      "    * For every step, click cancellation, end membership or similar\n",
      "\n"
     ]
    },
    {
     "name": "stderr",
     "output_type": "stream",
     "text": [
      "<frozen importlib._bootstrap>:241: DeprecationWarning: builtin type SwigPyPacked has no __module__ attribute\n",
      "<frozen importlib._bootstrap>:241: DeprecationWarning: builtin type SwigPyObject has no __module__ attribute\n",
      "<frozen importlib._bootstrap>:241: DeprecationWarning: builtin type swigvarlink has no __module__ attribute\n"
     ]
    },
    {
     "name": "stdout",
     "output_type": "stream",
     "text": [
      "INFO     [controller] 🔗  Opened new tab with https://www.amazon.com/mm/pipeline/cancellation\n",
      "INFO     [agent] 📍 Step 1\n",
      "INFO     [agent] 👍 Eval: Success - Successfully navigated to the Amazon sign-in page.\n",
      "INFO     [agent] 🧠 Memory: Opened cancellation URL, redirected to Amazon login page. 0 out of 3 login steps completed.\n",
      "INFO     [agent] 🎯 Next goal: Enter email and submit to continue with login.\n",
      "INFO     [agent] 🛠️  Action 1/2: {\"input_text\":{\"index\":2,\"text\":\"<secret>AMAZON_EMAIL</secret>\"}}\n",
      "INFO     [agent] 🛠️  Action 2/2: {\"click_element_by_index\":{\"index\":4}}\n",
      "INFO     [controller] ⌨️  Input sensitive data into index 2\n",
      "INFO     [controller] 🖱️  Clicked button with index 4: \n",
      "INFO     [agent] 📍 Step 2\n",
      "INFO     [agent] 👍 Eval: Success - Email submitted successfully, prompted for password.\n",
      "INFO     [agent] 🧠 Memory: Email submitted. Now on password entry step. 1 out of 3 login steps completed.\n",
      "INFO     [agent] 🎯 Next goal: Enter password and submit to continue with login.\n",
      "INFO     [agent] 🛠️  Action 1/2: {\"input_text\":{\"index\":4,\"text\":\"<secret>AMAZON_PASSWORD</secret>\"}}\n",
      "INFO     [agent] 🛠️  Action 2/2: {\"click_element_by_index\":{\"index\":6}}\n",
      "INFO     [controller] ⌨️  Input sensitive data into index 4\n",
      "INFO     [controller] 🖱️  Clicked button with index 6: \n",
      "INFO     [agent] 📍 Step 3\n",
      "INFO     [agent] 👍 Eval: Success - Password submitted, redirected to Prime membership management page. However, no Prime membership is currently managed under this account.\n",
      "INFO     [agent] 🧠 Memory: Successfully navigated past login steps. Prime membership cancellation page does not offer cancellation option, indicating no active membership. 2 out of 3 login steps completed.\n",
      "INFO     [agent] 🎯 Next goal: Since no Prime membership is detected for cancellation, proceed to close the task as no further action is required.\n",
      "INFO     [agent] 🛠️  Action 1/1: {\"done\":{\"text\":\"No Prime membership is currently active for this account, so no cancellation action is required. Task is complete as there is nothing further to proceed with.\",\"success\":true}}\n",
      "INFO     [agent] 📄 Result: No Prime membership is currently active for this account, so no cancellation action is required. Task is complete as there is nothing further to proceed with.\n",
      "INFO     [agent] ✅ Task completed\n",
      "INFO     [agent] ✅ Successfully\n",
      "INFO     [agent] 📝 Total input tokens used (approximate): 12362\n"
     ]
    },
    {
     "data": {
      "text/plain": [
       "AgentHistoryList(all_results=[ActionResult(is_done=False, success=None, extracted_content='⌨️  Input sensitive data into index 2', error=None, include_in_memory=True), ActionResult(is_done=False, success=None, extracted_content='🖱️  Clicked button with index 4: ', error=None, include_in_memory=True), ActionResult(is_done=False, success=None, extracted_content='⌨️  Input sensitive data into index 4', error=None, include_in_memory=True), ActionResult(is_done=False, success=None, extracted_content='🖱️  Clicked button with index 6: ', error=None, include_in_memory=True), ActionResult(is_done=True, success=True, extracted_content='No Prime membership is currently active for this account, so no cancellation action is required. Task is complete as there is nothing further to proceed with.', error=None, include_in_memory=False)], all_model_outputs=[{'input_text': {'index': 2, 'text': '<secret>AMAZON_EMAIL</secret>'}, 'interacted_element': DOMHistoryElement(tag_name='input', xpath='html/body/div[1]/div[1]/div[2]/div/div[2]/div[2]/div[1]/form/div/div/div/div[1]/input[1]', highlight_index=2, entire_parent_branch_path=['div', 'div', 'div', 'div', 'div', 'div', 'div', 'form', 'div', 'div', 'div', 'div', 'input'], attributes={'type': 'email', 'maxlength': '128', 'id': 'ap_email', 'autocomplete': 'username', 'name': 'email', 'spellcheck': 'false', 'class': 'a-input-text a-span12 auth-autofocus auth-required-field auth-require-claim-validation', 'aria-required': 'true'}, shadow_root=False, css_selector='html > body > div:nth-of-type(1) > div:nth-of-type(1) > div:nth-of-type(2) > div > div:nth-of-type(2) > div:nth-of-type(2) > div:nth-of-type(1) > form > div > div > div > div:nth-of-type(1) > input:nth-of-type(1).a-input-text.a-span12.auth-autofocus.auth-required-field.auth-require-claim-validation[type=\"email\"][id=\"ap_email\"][autocomplete=\"username\"][name=\"email\"]', page_coordinates=None, viewport_coordinates=None, viewport_info=None)}, {'click_element_by_index': {'index': 4}, 'interacted_element': DOMHistoryElement(tag_name='input', xpath='html/body/div[1]/div[1]/div[2]/div/div[2]/div[2]/div[1]/form/div/div/div/div[2]/span/span/input', highlight_index=4, entire_parent_branch_path=['div', 'div', 'div', 'div', 'div', 'div', 'div', 'form', 'div', 'div', 'div', 'div', 'span', 'span', 'input'], attributes={'id': 'continue', 'aria-describedby': 'legalTextRow', 'class': 'a-button-input', 'type': 'submit', 'aria-labelledby': 'continue-announce'}, shadow_root=False, css_selector='html > body > div:nth-of-type(1) > div:nth-of-type(1) > div:nth-of-type(2) > div > div:nth-of-type(2) > div:nth-of-type(2) > div:nth-of-type(1) > form > div > div > div > div:nth-of-type(2) > span > span > input.a-button-input[id=\"continue\"][aria-describedby=\"legalTextRow\"][type=\"submit\"][aria-labelledby=\"continue-announce\"]', page_coordinates=None, viewport_coordinates=None, viewport_info=None)}, {'input_text': {'index': 4, 'text': '<secret>AMAZON_PASSWORD</secret>'}, 'interacted_element': DOMHistoryElement(tag_name='input', xpath='html/body/div[1]/div[1]/div[2]/div/div[2]/div/div[2]/div/form/div/div[1]/input', highlight_index=4, entire_parent_branch_path=['div', 'div', 'div', 'div', 'div', 'div', 'div', 'div', 'form', 'div', 'div', 'input'], attributes={'type': 'password', 'maxlength': '1024', 'id': 'ap_password', 'autocomplete': 'current-password', 'name': 'password', 'spellcheck': 'false', 'class': 'a-input-text a-span12 auth-autofocus auth-required-field', 'aria-required': 'true'}, shadow_root=False, css_selector='html > body > div:nth-of-type(1) > div:nth-of-type(1) > div:nth-of-type(2) > div > div:nth-of-type(2) > div > div:nth-of-type(2) > div > form > div > div:nth-of-type(1) > input.a-input-text.a-span12.auth-autofocus.auth-required-field[type=\"password\"][id=\"ap_password\"][autocomplete=\"current-password\"][name=\"password\"]', page_coordinates=None, viewport_coordinates=None, viewport_info=None)}, {'click_element_by_index': {'index': 6}, 'interacted_element': DOMHistoryElement(tag_name='input', xpath='html/body/div[1]/div[1]/div[2]/div/div[2]/div/div[2]/div/form/div/div[2]/span/span/input', highlight_index=6, entire_parent_branch_path=['div', 'div', 'div', 'div', 'div', 'div', 'div', 'div', 'form', 'div', 'div', 'span', 'span', 'input'], attributes={'id': 'signInSubmit', 'class': 'a-button-input', 'type': 'submit', 'aria-labelledby': 'auth-signin-button-announce'}, shadow_root=False, css_selector='html > body > div:nth-of-type(1) > div:nth-of-type(1) > div:nth-of-type(2) > div > div:nth-of-type(2) > div > div:nth-of-type(2) > div > form > div > div:nth-of-type(2) > span > span > input.a-button-input[id=\"signInSubmit\"][type=\"submit\"][aria-labelledby=\"auth-signin-button-announce\"]', page_coordinates=None, viewport_coordinates=None, viewport_info=None)}, {'done': {'text': 'No Prime membership is currently active for this account, so no cancellation action is required. Task is complete as there is nothing further to proceed with.', 'success': True}, 'interacted_element': None}])"
      ]
     },
     "execution_count": 1,
     "metadata": {},
     "output_type": "execute_result"
    }
   ],
   "source": [
    "from langchain_openai import ChatOpenAI\n",
    "from browser_use import Agent\n",
    "import asyncio\n",
    "import os\n",
    "from dotenv import load_dotenv\n",
    "load_dotenv()\n",
    "from browser_use import Controller, ActionResult\n",
    "# Initialize the controller\n",
    "controller = Controller()\n",
    "\n",
    "@controller.action('Ask for OTP')\n",
    "def ask_for_otp(question: str) -> str:\n",
    "    answer = input(f'\\n{question}\\OTP: ')\n",
    "    return ActionResult(extracted_content=answer)\n",
    "\n",
    "SENSITIVE_DATA = {\n",
    "    \"AMAZON_EMAIL\": os.getenv(\"AMAZON_EMAIL\"),\n",
    "    \"AMAZON_PASSWORD\": os.getenv(\"AMAZON_PASSWORD\"),\n",
    "}\n",
    "initial_actions = [\n",
    "\t{'open_tab': {'url': 'https://www.amazon.com/mm/pipeline/cancellation'}}\n",
    "\n",
    "]\n",
    "task_prompt = \"\"\"Goal: Cancel Prime Subscription.  \n",
    "    * If login is prompted\n",
    "    * * Use AMAZON_EMAIL & AMAZON_PASSWORD\n",
    "    * * If otp is prompted ask for OTP input & use it.\n",
    "    * If the user does not have prime membership, do nothing & close. \n",
    "    * For every step, click cancellation, end membership or similar\n",
    "\"\"\"\n",
    "agent = Agent(\n",
    "            task=task_prompt,\n",
    "            initial_actions=initial_actions,\n",
    "            llm=ChatOpenAI(model=\"gpt-4o\"),\n",
    "            controller=controller,\n",
    "            sensitive_data=SENSITIVE_DATA,\n",
    "            save_conversation_path=\"logs/conversation\",\n",
    "            \n",
    "        )\n",
    "await agent.run()\n"
   ]
  },
  {
   "cell_type": "code",
   "execution_count": null,
   "metadata": {},
   "outputs": [],
   "source": []
  }
 ],
 "metadata": {
  "language_info": {
   "name": "python"
  }
 },
 "nbformat": 4,
 "nbformat_minor": 2
}
